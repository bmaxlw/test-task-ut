{
 "cells": [
  {
   "cell_type": "code",
   "execution_count": 3,
   "id": "bae82407",
   "metadata": {},
   "outputs": [],
   "source": [
    "import pandas as pd\n",
    "import numpy as np"
   ]
  },
  {
   "cell_type": "code",
   "execution_count": 37,
   "id": "f4fb831b",
   "metadata": {},
   "outputs": [],
   "source": [
    "nums = pd.read_excel('nums.xlsx')"
   ]
  },
  {
   "cell_type": "code",
   "execution_count": 112,
   "id": "82bee144",
   "metadata": {},
   "outputs": [],
   "source": [
    "# assign key: value pairs for phone codes: provider names (expandable, each time new ones can be added)\n",
    "code_ref = {\n",
    "    '091': '3Mob UA',\n",
    "    '092': 'PeopleNet',\n",
    "    '093': 'Lifecell',\n",
    "    '095': 'Vodafone',\n",
    "    '099': 'Vodafone',\n",
    "    '050': 'Vodafone',\n",
    "    '058': 'Javornik City, UA',\n",
    "    '094': 'Intertelecom UA',\n",
    "    '098': 'Kyivstar',\n",
    "    '068': 'Kyivstar',\n",
    "    '097': 'Kyivstar',\n",
    "    '039': 'Kyivstar',\n",
    "    '044': 'Kyiv City, UA',\n",
    "    '904': 'Tele2 RU',\n",
    "    '952': 'Tele2 RU',\n",
    "    '747': 'Tele2 RU',\n",
    "    '963': 'Beeline RU',\n",
    "    '903': 'Beeline RU',\n",
    "    '965': 'Beeline RU',\n",
    "    '043': 'Rabca City, UA',\n",
    "    '930': 'Megafon RU'\n",
    "}\n",
    "\n",
    "# assign key: value pairs for provider names: countries (expandable, each time new ones can be added)\n",
    "country_ref = {\n",
    "    '3Mob UA': 'Ukraine',\n",
    "    'PeopleNet': 'Ukraine',\n",
    "    'Lifecell': 'Ukraine',\n",
    "    'Vodafone': 'Ukraine',\n",
    "    'Javornik City, UA': 'Ukraine',\n",
    "    'Intertelecom UA': 'Ukraine',\n",
    "    'Kyivstar': 'Ukraine',\n",
    "    'Kyiv City, UA': 'Ukraine',\n",
    "    'Tele2 RU': 'Russian Federation',\n",
    "    'Beeline RU': 'Russian Federation',\n",
    "    'Rabca City, UA': 'Ukraine',\n",
    "    'Megafon RU': 'Russian Federation'\n",
    "    \n",
    "}"
   ]
  },
  {
   "cell_type": "code",
   "execution_count": 120,
   "id": "1add49ff",
   "metadata": {},
   "outputs": [],
   "source": [
    "numbers = []\n",
    "providers = []\n",
    "countries = []\n",
    "issues = []\n",
    "\n",
    "for i in nums['Numbers']:\n",
    "    i = str(i)\n",
    "    if len(i) < 9:\n",
    "        issues.append(i)\n",
    "    elif len(i) == 9: # for nums starting with 0\n",
    "        if i[0] == '9' \\\n",
    "        or i[0] == '6': # to be expanded when adding new codes\n",
    "            numbers.append('+380' + i)\n",
    "            providers.append(code_ref['0' + i[0:2]])\n",
    "        else:\n",
    "            issues.append(i)\n",
    "    elif len(i) == 11:\n",
    "        if i[0] == '8':\n",
    "            numbers.append('+3' + i)\n",
    "            providers.append(code_ref.get(i[1:4], False))\n",
    "        elif i[0] == '7':\n",
    "            numbers.append('+' + i)\n",
    "            providers.append(code_ref.get(i[1:4], False))\n",
    "        else:\n",
    "            issues.append(i)\n",
    "    elif len(i) == 12:\n",
    "        if i[0:2] == '38':\n",
    "            numbers.append('+' + i)\n",
    "            providers.append(code_ref.get(i[2:5], False))\n",
    "    else: \n",
    "        issues.append(i)\n",
    "\n",
    "for i in providers:\n",
    "    countries.append(country_ref.get(i, False))\n",
    "    \n",
    "\n",
    "df_clean = pd.DataFrame({'Number': numbers, 'Provider/City': providers, 'Country': countries}) \n",
    "df_issues = pd.DataFrame({'Issue': issues})\n",
    "# return .xlsx with clean numbers/providers/countries\n",
    "df_clean.to_excel('Clean.xlsx', sheet_name='Clean')\n",
    "# return .xlsx with numbers which failed conversion\n",
    "df_issues.to_excel('Issues.xlsx', sheet_name='Issues')"
   ]
  }
 ],
 "metadata": {
  "kernelspec": {
   "display_name": "Python 3",
   "language": "python",
   "name": "python3"
  },
  "language_info": {
   "codemirror_mode": {
    "name": "ipython",
    "version": 3
   },
   "file_extension": ".py",
   "mimetype": "text/x-python",
   "name": "python",
   "nbconvert_exporter": "python",
   "pygments_lexer": "ipython3",
   "version": "3.9.5"
  }
 },
 "nbformat": 4,
 "nbformat_minor": 5
}
